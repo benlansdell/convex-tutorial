{
 "cells": [
  {
   "cell_type": "markdown",
   "metadata": {},
   "source": [
    "## A very short introduction to convex optimization\n",
    "\n",
    "Here I cover a basic introduction to concepts and theory of convex optimization. The goal is to give an impression of why this is an important area of optimization, what its applications are, and some intiution for how it works. This is of course not meant to overview all areas of convex optimization, but more to give a flavor of the area by describing some results and theory as they relate to other areas that may be familiar to people (e.g. Lagrange multipliers). By presenting this in a notebook the aim is to focus on providing some geometric intuition whenever possible through plots whose parameters you can play with. Images not generated in this notebook are taken from one of the standard references: [Convex Optimization](https://web.stanford.edu/~boyd/cvxbook/bv_cvxbook.pdf), by Boyd and Vandenberghe. \n",
    "\n",
    "Here I will cover:\n",
    "\n",
    "### Contents\n",
    "\n",
    "**Part A.**\n",
    "1. Basics of convex functions and sets\n",
    "2. Why care about convexity?\n",
    "3. A convergence proof of gradient descent\n",
    "\n",
    "**Part B.**\n",
    "1. Conjugate functions\n",
    "2. The Lagrangian dual problem\n",
    "3. Generalizing Lagrange multipliers: the KKT conditions"
   ]
  },
  {
   "cell_type": "markdown",
   "metadata": {},
   "source": [
    "## Part A\n",
    "\n",
    "Most machine learning problems end up as some form of optimization problem, thus a basic understanding of optimization methods is very useful, or sometimes necessary, to solve a given problem. \n",
    "\n",
    "For instance, in simple linear regression, given some data $(y, X)$ and a model $y \\sim X\\beta + \\epsilon$, we aim to find the weights $\\beta$ that minimize:\n",
    "$$\n",
    "\\beta^* = \\text{argmin}_\\beta \\|y - X\\beta\\|^2_2.\n",
    "$$\n",
    "\n",
    "In general, we consider the following basic problem:\n",
    "$$\n",
    "x^* = \\text{argmin}_{x\\in\\mathcal{X}} f(x)\n",
    "$$\n",
    "subject to constraints:\n",
    "$$\n",
    "g_i(x) \\le 0\\\\\n",
    "h_j(x) = 0.\n",
    "$$\n",
    "Convex optimization deals with problems in which $f(x)$ and $g_i(x)$ are convex functions, and $h_j(x)$ are affine (of the form $a_j^Tx = b_j$).\n",
    "\n",
    "What is a convex function?"
   ]
  },
  {
   "cell_type": "markdown",
   "metadata": {},
   "source": [
    "### 1. Basics of convex functions and sets\n",
    "\n",
    "A convex *set* is a set $C$ in which the line segment connecting any two points in the set is also in the set. That is, if $x_1,x_2\\in C$ and $0\\le \\theta \\le t$ then\n",
    "$$\n",
    "\\theta x_1 + (1-\\theta)x_2 \\in C.\n",
    "$$\n",
    "Some examples:\n",
    "![title](assets/convexset.png)"
   ]
  },
  {
   "cell_type": "markdown",
   "metadata": {},
   "source": [
    "A *function* $f:\\mathbb{R}^n\\to\\mathbb{R}$ is convex if $\\text{dom} f$ is convex and for $0\\le \\theta \\le 1, x_1, x_2 \\in \\text{dom} f$:\n",
    "$$\n",
    "f(\\theta x_1 + (1-\\theta)x_2) \\le \\theta f(x_1) + (1-\\theta) f(x_2)\n",
    "$$\n",
    "\n",
    "This means that a line segement connecting any two points in the domain of $f$ lies above the graph of $f$:\n",
    "![](./assets/convexfunc.png)\n",
    "\n",
    "### An alternative definition\n",
    "\n",
    "If $f$ is differentiable, then $f$ is convex if and only if $\\text{dom} f$ is convex and \n",
    "$$\n",
    "f(x_2) \\ge f(x_1) + \\nabla f(x)^T(x_2-x_1)\n",
    "$$\n",
    "holds for all $x_1,x_2\\in\\text{dom} f$.\n",
    "\n",
    "![](./assets/convexfunc2.png)\n",
    "\n",
    "This means local information of a convex function can tell us about global information of the function -- this is a key property of convex functions. \n",
    "\n",
    "For instance, if $\\nabla f(x) = 0$ then for all $y\\in\\text{dom} f$ it is the case that $f(y) \\ge f(x)$. In other words, $x$ is a global minimizer of $f$.\n",
    "\n",
    "A few more definitions:\n",
    "\n",
    "**Strict convexity**\n",
    "\n",
    "A function $f$ is *strictly convex* if the inequality holds whenever $x_1\\ne x_2$. I.e. a linear function is not strictly convex\n",
    "\n",
    "**Strong convexity**\n",
    "\n",
    "*Strong convexity* implies there is some positive $m$ such that:\n",
    "$$\n",
    "\\nabla^2 f(x) \\succeq mI\n",
    "$$\n",
    "which can be shown to be equivalent to\n",
    "$$\n",
    "f(x) \\ge f(x_1) + \\nabla f(x_1)^T(x-x_1) + \\frac{m}{2}\\|x - x_1\\|^2_2\n",
    "$$\n",
    "for all $x_1,x\\in \\mathcal{X}$. \n",
    "\n",
    "This means the function can be lower bounded by a quadratic function with some fixed second derivative $mI$.\n",
    "\n",
    "For instance, in one dimension, $f(x) = x^2$ is strongly convex, but $f(x) = e^x$ is not. "
   ]
  },
  {
   "cell_type": "code",
   "execution_count": 4,
   "metadata": {},
   "outputs": [],
   "source": [
    "import ipywidgets as widgets\n",
    "import matplotlib.pyplot as plt\n",
    "import numpy as np\n",
    "\n",
    "from IPython.display import display, clear_output"
   ]
  },
  {
   "cell_type": "markdown",
   "metadata": {},
   "source": [
    "### Some examples of convex functions"
   ]
  },
  {
   "cell_type": "code",
   "execution_count": 27,
   "metadata": {},
   "outputs": [],
   "source": [
    "def plot_heatmap(f, dom_x, dom_y, resolution = 100, title = None):\n",
    "    x = np.linspace(*dom_x, resolution)\n",
    "    y = np.linspace(*dom_y, resolution)\n",
    "    xx, yy = np.meshgrid(x, y)\n",
    "    im = f(xx,yy)\n",
    "    plt.imshow(im, origin = 'lower')\n",
    "    frame = plt.gca()\n",
    "    frame.axes.get_xaxis().set_visible(False)\n",
    "    frame.axes.get_yaxis().set_visible(False)\n",
    "    if title: plt.title(title)"
   ]
  },
  {
   "cell_type": "markdown",
   "metadata": {},
   "source": [
    "1. Indicator function of a convex set, $S$. \n",
    "\n",
    "If $I_S(x)$ is defined as\n",
    "$$\n",
    "I_S(x) = \\begin{cases}\n",
    "0, \\quad x\\in S;\\\\\n",
    "+\\infty, \\quad\\text{else}\n",
    "\\end{cases}\n",
    "$$\n",
    "Then $I_S(x)$ is convex"
   ]
  },
  {
   "cell_type": "code",
   "execution_count": 28,
   "metadata": {},
   "outputs": [
    {
     "data": {
      "image/png": "[encoded data removed]",
      "text/plain": [
       "<Figure size 432x288 with 1 Axes>"
      ]
     },
     "metadata": {
      "needs_background": "light"
     },
     "output_type": "display_data"
    }
   ],
   "source": [
    "%matplotlib inline\n",
    "f = lambda x,y: 1 - ((x**2 + y**2) < 1)\n",
    "plot_heatmap(f, [-1,1], [-1,1], resolution = 500, title = \"L_2 unit ball indicator\")"
   ]
  },
  {
   "cell_type": "markdown",
   "metadata": {},
   "source": [
    "2. Norms. Any norm is a convex function:"
   ]
  },
  {
   "cell_type": "code",
   "execution_count": 49,
   "metadata": {},
   "outputs": [
    {
     "data": {
      "image/png": "[encoded data removed]",
      "text/plain": [
       "<Figure size 432x288 with 1 Axes>"
      ]
     },
     "metadata": {
      "needs_background": "light"
     },
     "output_type": "display_data"
    }
   ],
   "source": [
    "l1 = lambda x,y: abs(x) + abs(y)\n",
    "plot_heatmap(l1, [-1,1], [-1,1], title = \"L_1 norm\")"
   ]
  },
  {
   "cell_type": "markdown",
   "metadata": {},
   "source": [
    "3. Quadratic functions: $f(x) = x^T P x + 2q^T x + r$ for $P$ positive definite."
   ]
  },
  {
   "cell_type": "code",
   "execution_count": 50,
   "metadata": {},
   "outputs": [
    {
     "data": {
      "image/png": "[encoded data removed]",
      "text/plain": [
       "<Figure size 432x288 with 1 Axes>"
      ]
     },
     "metadata": {
      "needs_background": "light"
     },
     "output_type": "display_data"
    }
   ],
   "source": [
    "f = lambda x,y: x**2 - x*y + y**2 + x + y\n",
    "plot_heatmap(f, [-3,3], [-3,3], title = \"Quadratic function\")"
   ]
  },
  {
   "cell_type": "markdown",
   "metadata": {},
   "source": [
    "4. Common functions: $1/x$ for $x>0$, $e^x$ for $x\\in\\mathbb{R}$, $x^2$ for $x\\in\\mathbb{R}$."
   ]
  },
  {
   "cell_type": "code",
   "execution_count": 61,
   "metadata": {},
   "outputs": [
    {
     "data": {
      "image/png": "[encoded data removed]",
      "text/plain": [
       "<Figure size 720x216 with 3 Axes>"
      ]
     },
     "metadata": {
      "needs_background": "light"
     },
     "output_type": "display_data"
    }
   ],
   "source": [
    "fig, axes = plt.subplots(1, 3, figsize = (10,3))\n",
    "xx = np.linspace(0.01, 4, 100)\n",
    "axes[0].plot(xx, 1/xx);\n",
    "xx = np.linspace(-4, 4, 100)\n",
    "axes[1].plot(xx, np.exp(xx));\n",
    "axes[2].plot(xx, xx**2);"
   ]
  },
  {
   "cell_type": "markdown",
   "metadata": {},
   "source": [
    "### Examples of strong convexity"
   ]
  },
  {
   "cell_type": "code",
   "execution_count": 26,
   "metadata": {},
   "outputs": [],
   "source": [
    "def make_widget_mx1(f, f_prime):\n",
    "    %matplotlib widget\n",
    "\n",
    "    fig, ax = plt.subplots(figsize = (3,3));\n",
    "    xx = np.linspace(-4, 4, 100)\n",
    "    ax.plot(xx, f(xx))\n",
    "\n",
    "    x1 = 0\n",
    "    m = 1\n",
    "    yy = f(x1) + f_prime(x1)*(xx-x1) + m/2*(xx - x1)**2\n",
    "    line, = ax.plot(xx, yy)\n",
    "\n",
    "    ax.set_xlabel('x')\n",
    "    ax.set_ylabel('y')\n",
    "    ax.legend(['f(x)', 'lower bound'])\n",
    "\n",
    "    def myplot(x1, m):\n",
    "        yy = f(x1) + f_prime(x1)*(xx-x1) + m/2*(xx - x1)**2\n",
    "        line.set_ydata(yy)\n",
    "        ax.relim()\n",
    "        display(fig)\n",
    "        clear_output(wait=True)\n",
    "\n",
    "    widgets.interact(myplot, x1=(-4,4,.1), m = (0, 2,0.2));"
   ]
  },
  {
   "cell_type": "code",
   "execution_count": 31,
   "metadata": {},
   "outputs": [
    {
     "data": {
      "application/vnd.jupyter.widget-view+json": {
       "model_id": "578aa5f135674db39257ec2c254ee348",
       "version_major": 2,
       "version_minor": 0
      },
      "text/plain": [
       "Canvas(toolbar=Toolbar(toolitems=[('Home', 'Reset original view', 'home', 'home'), ('Back', 'Back to previous …"
      ]
     },
     "metadata": {},
     "output_type": "display_data"
    },
    {
     "data": {
      "application/vnd.jupyter.widget-view+json": {
       "model_id": "3234b8c315954ebf89e47a9dcaa1a403",
       "version_major": 2,
       "version_minor": 0
      },
      "text/plain": [
       "interactive(children=(FloatSlider(value=0.0, description='x1', max=4.0, min=-4.0), FloatSlider(value=1.0, desc…"
      ]
     },
     "metadata": {},
     "output_type": "display_data"
    }
   ],
   "source": [
    "f = lambda x: x**2\n",
    "f_prime = lambda x: 2*x\n",
    "make_widget_mx1(f, f_prime)"
   ]
  },
  {
   "cell_type": "markdown",
   "metadata": {},
   "source": [
    "$f(x) = x^2$, somewhat trivally, *is* a strongly convex function."
   ]
  },
  {
   "cell_type": "code",
   "execution_count": 32,
   "metadata": {},
   "outputs": [
    {
     "data": {
      "application/vnd.jupyter.widget-view+json": {
       "model_id": "b80fd2a7764a44f8873f989211c16a9a",
       "version_major": 2,
       "version_minor": 0
      },
      "text/plain": [
       "Canvas(toolbar=Toolbar(toolitems=[('Home', 'Reset original view', 'home', 'home'), ('Back', 'Back to previous …"
      ]
     },
     "metadata": {},
     "output_type": "display_data"
    },
    {
     "data": {
      "application/vnd.jupyter.widget-view+json": {
       "model_id": "522e2b59b43943989244cd0c52ed1e8c",
       "version_major": 2,
       "version_minor": 0
      },
      "text/plain": [
       "interactive(children=(FloatSlider(value=0.0, description='x1', max=4.0, min=-4.0), FloatSlider(value=1.0, desc…"
      ]
     },
     "metadata": {},
     "output_type": "display_data"
    }
   ],
   "source": [
    "f = lambda x: np.exp(x)\n",
    "f_prime = f\n",
    "make_widget_mx1(f, f_prime)"
   ]
  },
  {
   "cell_type": "markdown",
   "metadata": {},
   "source": [
    "$f(x) = \\exp(x)$ is *not* a strongly convex function. The general idea being something like functions that become arbitarily flat/linear in some direction are not strongly convex."
   ]
  },
  {
   "cell_type": "markdown",
   "metadata": {},
   "source": [
    "### Operations that preserve convexity\n",
    "\n",
    "1. Non-negative weighted sums.\n",
    "\n",
    "If $f_i$ are each convex, then the nonnegative weighted sum:\n",
    "$$\n",
    "f(x) = \\sum_i w_i f_i(x)\n",
    "$$\n",
    "is convex, for $w_i \\ge 0$."
   ]
  },
  {
   "cell_type": "markdown",
   "metadata": {},
   "source": [
    "2. Composition with nondecreasing functions.\n",
    "\n",
    "Let $f = h(g(x))$. If $h$ is a scalar function, $h:\\mathbb{R}\\to\\mathbb{R}$, then:\n",
    "\n",
    "For example, if $h$ is convex and nondecreasing, and $g$ is convex, then $f$ is convex."
   ]
  },
  {
   "cell_type": "markdown",
   "metadata": {},
   "source": [
    "3. Pointwise maxima.\n",
    "\n",
    "If $f_1$ and $f_2$ are convex, then the pointwise maximum:\n",
    "$$\n",
    "f(x) = \\max\\{f_1(x), f_2(x)\\}\n",
    "$$\n",
    "is also convex. The proof is simple:\n",
    "$$\n",
    "\\begin{align}\n",
    "f(\\theta x + (1-\\theta)y) &= \\max\\{f_1(\\theta x + (1-\\theta)y), f_2(\\theta x + (1-\\theta)y)\\}\\\\\n",
    "&\\le \\max\\{\\theta f_1(x) + (1-\\theta)f_1(y), \\theta f_2(x) + (1-\\theta)f_2(y)\\}\\quad\\text{(conv. of $f_1,f_2$)}\\\\\n",
    "&\\le \\theta\\max\\{ f_1(x), f_2(x) \\} + (1-\\theta)\\max\\{f_1(y),f_2(y)\\}\\quad\\text{(replace $f_1$ w. max $f_1,f_2$)}\\\\\n",
    "&= \\theta f(x) + (1-\\theta) f(y)\n",
    "\\end{align}\n",
    "$$"
   ]
  },
  {
   "cell_type": "markdown",
   "metadata": {},
   "source": [
    "This result extends to pointwise maximum over $n$ functions:\n",
    "$$\n",
    "f(x) = \\max\\{(f_i(x)\\}_{i=1}^n\n",
    "$$\n",
    "\n",
    "and also the pointwise supremum over an infinite set of convex functions. Let $\\{f_i(x)\\}_{i\\in I}$ be a collection of convex functions, then\n",
    "$$\n",
    "g(x) = \\sup_{i\\in I}f_i(x)\n",
    "$$\n",
    "is convex."
   ]
  },
  {
   "cell_type": "markdown",
   "metadata": {},
   "source": [
    "### 2. Why care about convex optimization?\n",
    "\n",
    "1. When your problem is convex, a locally optimal solution is globally optimal -> Can use gradient-based methods confidently\n",
    "2. Shows up in common optimization problems\n",
    "  * Linear least squares\n",
    "  * Logistic regression\n",
    "  * Weighted least squares\n",
    "3. A lot of associated theory and strong geometric intuition can provide a good understanding of the problem\n",
    "4. Can be relevant even for non-convex problems:\n",
    "  * Can turn into a convex problem (primal -> dual problem, see below)\n",
    "  * Can approximate with a convex function to initialize a local optimization method\n",
    "  * Common heuristics: convex relaxation for finding sparse solutions, e.g. $L_0$ to $L_1$ relaxation\n",
    "  * Bounds for global optimization\n",
    "5. Concepts that naturally arise in convex optimization are important elsewhere, like the theory of Lagrangians\n",
    "\n",
    "Somewhat like linear algebra, because you can do a lot with convex optimization, it is quite foundational to optimization and important to know. "
   ]
  },
  {
   "cell_type": "markdown",
   "metadata": {},
   "source": [
    "### 3. Convergence of gradient descent"
   ]
  },
  {
   "cell_type": "markdown",
   "metadata": {},
   "source": [
    "For a strongly convex function that satisfies:\n",
    "$$\n",
    "\\alpha I \\preceq \\nabla^2 f(x) \\preceq \\beta I\n",
    "$$\n",
    "for all $x\\in\\mathcal{X}$ and $0<\\alpha \\le \\beta$. An equivalent condition is for\n",
    "$$\n",
    "f(y) \\ge f(x) + \\nabla f(x)(y-x) + \\frac{\\alpha}{2}\\|y-x\\|^2,\\quad \\forall x,y\\in\\mathcal{X}\n",
    "$$\n",
    "known as $\\alpha$-strongly convex. And \n",
    "$$\n",
    "f(y) \\le f(x) + \\nabla f(x)(y-x) + \\frac{\\beta}{2}\\|y-x\\|^2,\\quad \\forall x,y\\in\\mathcal{X}\n",
    "$$\n",
    "Known as $\\beta$-smoothness.\n",
    "\n",
    "In other words, for all points $x\\in\\mathcal{X}$, the function $f(y)$ can be bounded below and above by quadratic functions intersecting at $f(x)$.\n",
    "\n",
    "This can be used to show the following inequalities:\n",
    "$$\n",
    "\\begin{align}\n",
    "\\frac{\\alpha}{2}\\|x^* - x\\|^2&\\le f(x) - f(x^*) \\le \\frac{1}{2\\alpha}\\|\\nabla f(x)\\|^2\\quad \\text{$\\alpha$-strongly convex}\\\\\n",
    "\\frac{\\beta}{2}\\|x^* - x\\|^2&\\ge f(x) - f(x^*) \\ge \\frac{1}{2\\beta}\\|\\nabla f(x)\\|^2\\quad\\text{$\\beta$-smoothness}\\\\\n",
    "\\end{align}\n",
    "$$\n",
    "\n",
    "Call the quantity $h(x) = f(x)-f(x^*)$ the *primal gap*, the thing we are trying to reduce in our optimization. \n",
    "\n",
    "These inequalities are useful because they let us bound the primal gap by the gradient and the amount we're moving in $x$ (a property of the algorithm, which is known).\n"
   ]
  },
  {
   "cell_type": "markdown",
   "metadata": {},
   "source": [
    "Now consider the gradient descent update:\n",
    "$$\n",
    "x_{t+1} = x_t - \\frac{1}{\\beta}\\nabla f(x_t)\n",
    "$$\n",
    "\n",
    "Then the above inequalities can be used to show how the primal gap converges:\n",
    "$$\n",
    "\\begin{align}\n",
    "h_{t+1} - h_t &= f(x_{t+1}) - f(x_t)\\\\\n",
    "&\\le \\nabla f(x_t)(x_{t+1}-x_t) + \\frac{\\beta}{2}\\|x_{t+1}-x_t\\|^2\\quad (\\text{$\\beta$-smoothness})\\\\\n",
    "&= -\\frac{1}{\\beta}\\|\\nabla f(x_t)\\|^2 + \\frac{1}{2\\beta}\\|\\nabla f(x_t)\\|^2\\quad (\\text{definition of algorithm})\\\\\n",
    "&= -\\frac{1}{2\\beta}\\|\\nabla f(x_t)\\|^2\\quad\\\\\n",
    "&\\le -\\frac{\\alpha}{\\beta}h_t\\quad\\\\\n",
    "\\end{align}\n",
    "$$\n",
    "Thus \n",
    "$$\n",
    "h_{t+1} = h_t(1 - \\frac{\\alpha}{\\beta}), \n",
    "$$\n",
    "or\n",
    "$$\n",
    "h_{t} = h_0(1 - \\frac{\\alpha}{\\beta})^t.\n",
    "$$\n",
    "Since $\\alpha < \\beta$ then the algorithm converges. Further, how close $\\alpha$ is to $\\beta$ determines the convergence rate -- convergence is fastest when $\\alpha$ is close to $\\beta$... this corresponds to the Hessian being closed to spherical (well-conditioned)."
   ]
  },
  {
   "cell_type": "code",
   "execution_count": 95,
   "metadata": {},
   "outputs": [],
   "source": [
    "def make_widget_gd():\n",
    "    %matplotlib widget\n",
    "\n",
    "    fig, axes = plt.subplots(1, 2, figsize = (10,5));\n",
    "    x = np.linspace(-4, 4, 100)\n",
    "    y = np.linspace(-4, 4, 100)\n",
    "    xx, yy = np.meshgrid(x, y)\n",
    "\n",
    "    ax = axes[0]\n",
    "    alpha = 1\n",
    "    beta = 5\n",
    "    f = lambda x, y: (alpha * x**2 + beta * y**2)/2\n",
    "    zz = f(xx, yy)\n",
    "    ax.imshow(zz, extent = (-4, 4, -4, 4))\n",
    "\n",
    "    #Run GD n times\n",
    "    theta = np.array([3,3])\n",
    "    n = 7\n",
    "    theta_hist = np.zeros((n, 2))\n",
    "    f_hist = np.zeros(n)\n",
    "    for idx in range(n):\n",
    "        theta_hist[idx,:] = theta\n",
    "        f_hist[idx] = f(*theta)\n",
    "        theta = theta - np.array([alpha*theta[0], beta*theta[1]])/(0.8*beta)\n",
    "    #Plot the progress of the optimization    \n",
    "    line, = ax.plot(*theta_hist.T, color = 'red')\n",
    "\n",
    "    ax.set_xlabel('x')\n",
    "    ax.set_ylabel('y')\n",
    "\n",
    "    line2, = axes[1].plot(f_hist)\n",
    "    axes[1].set_yscale('log')\n",
    "    axes[1].set_ylim([0.001,20])\n",
    "    \n",
    "    #Replot with new params\n",
    "    def myplot(alpha, beta):\n",
    "\n",
    "        f = lambda x, y: (alpha * x**2 + beta * y**2)/2\n",
    "        zz = f(xx, yy)\n",
    "        ax.imshow(zz, extent = (-4, 4, -4, 4))\n",
    "\n",
    "        theta = np.array([3,3])\n",
    "        theta_hist = np.zeros((n, 2))\n",
    "        f_hist = np.zeros(n)\n",
    "        for idx in range(n):\n",
    "            theta_hist[idx,:] = theta\n",
    "            f_hist[idx] = f(*theta)\n",
    "            theta = theta - np.array([alpha*theta[0], beta*theta[1]])/(1.1*beta)\n",
    "\n",
    "        line.set_xdata(theta_hist[:,0])\n",
    "        line.set_ydata(theta_hist[:,1])\n",
    "        line2.set_ydata(f_hist)\n",
    "        ax.relim()\n",
    "        display(fig)\n",
    "        clear_output(wait=True)#\n",
    "\n",
    "    widgets.interact(myplot, alpha=(0,2,.1), beta = (0, 4,0.2));"
   ]
  },
  {
   "cell_type": "markdown",
   "metadata": {},
   "source": [
    "As an example, consider the quadratic function:\n",
    "$$\n",
    "f(x,y) = \\frac{m_x}{2}x^2 + \\frac{m_y}{2}y^2.\n",
    "$$\n",
    "This is strongly convex, with $\\alpha = \\min(m_x, m_y)$ and $\\beta = \\max(m_x, m_y)$. We observe the convergence behavior (the primal gap as a function of gradient descent iteration). Apart from the first iteration, it's linear on a log scale, as the above analysis would suggest. The slope depends on the ratio between $\\alpha$ and $\\beta$."
   ]
  },
  {
   "cell_type": "code",
   "execution_count": 96,
   "metadata": {},
   "outputs": [
    {
     "data": {
      "application/vnd.jupyter.widget-view+json": {
       "model_id": "e5706228e3a7440d8bfc130793bfe1bd",
       "version_major": 2,
       "version_minor": 0
      },
      "text/plain": [
       "Canvas(toolbar=Toolbar(toolitems=[('Home', 'Reset original view', 'home', 'home'), ('Back', 'Back to previous …"
      ]
     },
     "metadata": {},
     "output_type": "display_data"
    },
    {
     "data": {
      "application/vnd.jupyter.widget-view+json": {
       "model_id": "531482d1713d485fbd6b66abf72da04c",
       "version_major": 2,
       "version_minor": 0
      },
      "text/plain": [
       "interactive(children=(FloatSlider(value=1.0, description='alpha', max=2.0), FloatSlider(value=2.0, description…"
      ]
     },
     "metadata": {},
     "output_type": "display_data"
    }
   ],
   "source": [
    "make_widget_gd()"
   ]
  },
  {
   "cell_type": "markdown",
   "metadata": {},
   "source": [
    "## Part B.\n",
    "\n",
    "Here we explore how some theory of convex functions and optimization relates to a common and powerful method in optimization -- Lagrange multipliers"
   ]
  },
  {
   "cell_type": "markdown",
   "metadata": {},
   "source": [
    "### 1. Conjugate functions\n"
   ]
  },
  {
   "cell_type": "markdown",
   "metadata": {},
   "source": [
    "Let $f:\\mathbb{R}^n\\to\\mathbb{R}$, then we can define $f^*:\\mathbb{R}^n\\to\\mathbb{R}$ as\n",
    "$$\n",
    "f^*(\\lambda) = \\sup_{x\\in\\text{dom} f} (\\lambda^T x - f(x)).\n",
    "$$\n",
    "As this is the pointwise supremum over a set of convex (linear) functions, it is itself convex. This is true regardless of whether $f$ is convex. This is known as the conjugate of $f$.\n",
    "\n",
    "How can this be convex even if $f$ is not? Here's one example:\n",
    "\n",
    "Consider the non-convex function $f(x) = x^2(x-1)(x+1)$"
   ]
  },
  {
   "cell_type": "code",
   "execution_count": 101,
   "metadata": {},
   "outputs": [
    {
     "data": {
      "image/png": "[encoded data removed]",
      "text/plain": [
       "<Figure size 432x288 with 1 Axes>"
      ]
     },
     "metadata": {
      "needs_background": "light"
     },
     "output_type": "display_data"
    }
   ],
   "source": [
    "%matplotlib inline\n",
    "f = lambda x: x**2*(x-1)*(x+1)\n",
    "\n",
    "xx = np.linspace(-1.3,1.3,100)\n",
    "yy = f(xx)\n",
    "plt.plot(xx,yy);"
   ]
  },
  {
   "cell_type": "markdown",
   "metadata": {},
   "source": [
    "It's conjugate is obtained through computing the following maximum:"
   ]
  },
  {
   "cell_type": "code",
   "execution_count": 124,
   "metadata": {},
   "outputs": [],
   "source": [
    "def make_widget_conjugate(res = 100):\n",
    "    %matplotlib widget\n",
    "    \n",
    "    fig, axes = plt.subplots(1, 2, figsize = (10,5));\n",
    "    xx = np.linspace(-1.3, 1.3, res)\n",
    "\n",
    "    y = 1\n",
    "    f = lambda x: x**2*(x-1)*(x+1)\n",
    "\n",
    "    fstar = lambda x, y: x*y - f(x)\n",
    "    yy = fstar(xx, y)\n",
    "    l1, = axes[0].plot(xx,yy)\n",
    "    \n",
    "    idx_star = np.argmax(yy)\n",
    "    x_star = xx[idx_star]\n",
    "    y_star = np.max(yy)\n",
    "    \n",
    "    l2, = axes[0].plot(x_star, y_star, '.', color = 'red')\n",
    "\n",
    "    axes[0].set_xlabel('x')\n",
    "    axes[0].set_title('yx - f(x)')\n",
    "    \n",
    "    y_range = np.linspace(-2, 2, res)\n",
    "    fstar_all = np.zeros(res)\n",
    "    for idx, ys in enumerate(y_range):\n",
    "        fstar_all[idx] = np.max(fstar(xx, ys))\n",
    "        \n",
    "    axes[1].plot(y_range, fstar_all)\n",
    "    l3, = axes[1].plot(y, y_star, '.', color = 'red')\n",
    "    \n",
    "    axes[1].set_xlabel('y')\n",
    "    axes[1].set_title('f^*(y)')\n",
    "\n",
    "    #Replot with new params\n",
    "    def myplot(y):\n",
    "\n",
    "        yy = fstar(xx, y)\n",
    "        l1.set_ydata(yy)\n",
    "\n",
    "        idx_star = np.argmax(yy)\n",
    "        x_star = xx[idx_star]\n",
    "        y_star = np.max(yy)\n",
    "\n",
    "        l2.set_ydata(y_star)\n",
    "        l2.set_xdata(x_star)\n",
    "        l3.set_ydata(y_star)\n",
    "        l3.set_xdata(y)\n",
    "\n",
    "        ax.relim()\n",
    "        display(fig)\n",
    "        clear_output(wait=True)#\n",
    "\n",
    "    widgets.interact(myplot, y = (-2, 2, 0.1));"
   ]
  },
  {
   "cell_type": "code",
   "execution_count": 125,
   "metadata": {},
   "outputs": [
    {
     "data": {
      "application/vnd.jupyter.widget-view+json": {
       "model_id": "10fded6db72141afb7e8c4493c4b1834",
       "version_major": 2,
       "version_minor": 0
      },
      "text/plain": [
       "Canvas(toolbar=Toolbar(toolitems=[('Home', 'Reset original view', 'home', 'home'), ('Back', 'Back to previous …"
      ]
     },
     "metadata": {},
     "output_type": "display_data"
    },
    {
     "data": {
      "application/vnd.jupyter.widget-view+json": {
       "model_id": "0578ea4f78944697b429d166b2b77e0a",
       "version_major": 2,
       "version_minor": 0
      },
      "text/plain": [
       "interactive(children=(FloatSlider(value=0.0, description='y', max=2.0, min=-2.0), Output()), _dom_classes=('wi…"
      ]
     },
     "metadata": {},
     "output_type": "display_data"
    }
   ],
   "source": [
    "make_widget_conjugate()"
   ]
  },
  {
   "cell_type": "markdown",
   "metadata": {},
   "source": [
    "Which is clearly convex."
   ]
  },
  {
   "cell_type": "markdown",
   "metadata": {},
   "source": [
    "### Some more examples\n",
    "\n",
    "1. Affine functions. If $f(x) = ax+b$ then $f^*:\\{a\\}\\to\\mathbb{R}$ and $f^*(a) = -b$\n",
    "2. Exponential. If $f(x) = \\exp(x)$ then $f^*:\\mathbb{R}_+\\to\\mathbb{R}$ and $f^*(x) = x\\log x - x$\n",
    "3. Negative entropy. If $f(x) = x\\log x$ then $f^*(x) = \\exp(x-1)$.\n",
    "\n",
    "If $f(x)$ is convex, then (given some additional technical condtions), $f(x) = f^{**}(x)$, justifying the use of the term conjugate."
   ]
  },
  {
   "cell_type": "markdown",
   "metadata": {},
   "source": [
    "### 2. The Lagrangian dual problem"
   ]
  },
  {
   "cell_type": "markdown",
   "metadata": {},
   "source": [
    "### 3. Generalizing Lagrange multipliers: the KKT conditions"
   ]
  },
  {
   "cell_type": "code",
   "execution_count": null,
   "metadata": {},
   "outputs": [],
   "source": []
  }
 ],
 "metadata": {
  "kernelspec": {
   "display_name": "Python 3",
   "language": "python",
   "name": "python3"
  },
  "language_info": {
   "codemirror_mode": {
    "name": "ipython",
    "version": 3
   },
   "file_extension": ".py",
   "mimetype": "text/x-python",
   "name": "python",
   "nbconvert_exporter": "python",
   "pygments_lexer": "ipython3",
   "version": "3.7.6"
  }
 },
 "nbformat": 4,
 "nbformat_minor": 4
}
